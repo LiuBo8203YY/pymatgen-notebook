{
 "cells": [
  {
   "cell_type": "code",
   "execution_count": 6,
   "metadata": {
    "collapsed": true
   },
   "outputs": [],
   "source": [
    "import pymatgen as mg\n",
    "import os, re\n",
    "rester = mg.MPRester(os.environ['PMG_MAPI_KEY'])"
   ]
  },
  {
   "cell_type": "code",
   "execution_count": 9,
   "metadata": {},
   "outputs": [
    {
     "name": "stdout",
     "output_type": "stream",
     "text": [
      "610\n"
     ]
    }
   ],
   "source": [
    "\n",
    "\n",
    "comp = mg.Composition(\"Fe2O3\")\n",
    "anon_formula = comp.anonymized_formula\n",
    "# We need to convert the formula to the dict form used in the database.\n",
    "anon_formula = {m.group(1): int(m.group(2)) \n",
    "                for m in re.finditer(r\"([A-Z]+)(\\d+)\", anon_formula)}\n",
    "\n",
    "data = rester.query({\"anonymous_formula\": anon_formula}, \n",
    "                 properties=[\"task_id\", \"pretty_formula\", \"structure\"])\n",
    "print(len(data))  #Should show ~600 data."
   ]
  },
  {
   "cell_type": "code",
   "execution_count": null,
   "metadata": {
    "collapsed": true
   },
   "outputs": [],
   "source": []
  },
  {
   "cell_type": "code",
   "execution_count": 25,
   "metadata": {},
   "outputs": [
    {
     "name": "stdout",
     "output_type": "stream",
     "text": [
      "{'A': 3, 'B': 4}\n",
      "273\n"
     ]
    }
   ],
   "source": [
    "comp = mg.Composition(\"Fe3O4\")\n",
    "anon_formula = comp.anonymized_formula\n",
    "# We need to convert the formula to the dict form used in the database.\n",
    "anon_formula = {m.group(1): int(m.group(2)) \n",
    "                for m in re.finditer(r\"([A-Z]+)(\\d+)\", anon_formula)}\n",
    "print(anon_formula)\n",
    "data = rester.query({\"anonymous_formula\": anon_formula}, \n",
    "                 properties=[\"task_id\", \"pretty_formula\", \"structure\"])\n",
    "print(len(data))  #Should show ~600 data."
   ]
  },
  {
   "cell_type": "code",
   "execution_count": 18,
   "metadata": {},
   "outputs": [
    {
     "data": {
      "text/plain": [
       "'ABC3'"
      ]
     },
     "execution_count": 18,
     "metadata": {},
     "output_type": "execute_result"
    }
   ],
   "source": [
    "comp = mg.Composition(\"LaWN3\")\n",
    "anon_formula = comp.anonymized_formula\n",
    "anon_formula"
   ]
  },
  {
   "cell_type": "code",
   "execution_count": 26,
   "metadata": {},
   "outputs": [
    {
     "data": {
      "text/plain": [
       "dict"
      ]
     },
     "execution_count": 26,
     "metadata": {},
     "output_type": "execute_result"
    }
   ],
   "source": [
    "type(anon_formula)"
   ]
  },
  {
   "cell_type": "code",
   "execution_count": 45,
   "metadata": {},
   "outputs": [
    {
     "name": "stdout",
     "output_type": "stream",
     "text": [
      "<class 'str'>\n",
      "A2B3\n",
      "{'A': 2, 'B': 3}\n"
     ]
    }
   ],
   "source": [
    "comp = mg.Composition(\"Fe2O3\")\n",
    "anon_formula = comp.anonymized_formula\n",
    "print(type(anon_formula))\n",
    "print(anon_formula)\n",
    "# We need to convert the formula to the dict form used in the database.\n",
    "anon_formula = {m.group(1): int(m.group(2)) \n",
    "                for m in re.finditer(r\"([A-Z]+)(\\d+)\", anon_formula)}\n",
    "print(anon_formula)\n",
    "# data = rester.query({\"anonymous_formula\": anon_formula}, \n",
    "#                  properties=[\"task_id\", \"pretty_formula\", \"structure\"])\n",
    "# print(len(data))  #Should show ~600 data.\n",
    "\n"
   ]
  },
  {
   "cell_type": "code",
   "execution_count": 41,
   "metadata": {},
   "outputs": [
    {
     "name": "stdout",
     "output_type": "stream",
     "text": [
      "{'A': 2, 'B': 3}\n",
      "610\n"
     ]
    }
   ],
   "source": [
    "comp = mg.Composition(\"Mn2O3\")\n",
    "anon_formula = comp.anonymized_formula\n",
    "# We need to convert the formula to the dict form used in the database.\n",
    "anon_formula = {m.group(1): int(m.group(2)) \n",
    "                for m in re.finditer(r\"([A-Z]+)(\\d+)\", anon_formula)}\n",
    "print(anon_formula)\n",
    "data = rester.query({\"anonymous_formula\": anon_formula}, \n",
    "                 properties=[\"task_id\", \"pretty_formula\", \"structure\"])\n",
    "print(len(data))  #Should show ~600 data."
   ]
  },
  {
   "cell_type": "code",
   "execution_count": 47,
   "metadata": {},
   "outputs": [
    {
     "name": "stdout",
     "output_type": "stream",
     "text": [
      "<class 'str'>\n",
      "A2B3\n"
     ]
    }
   ],
   "source": [
    "comp = mg.Composition(\"Fe2O3\")\n",
    "anon_formula = comp.anonymized_formula\n",
    "print(type(anon_formula))\n",
    "print(anon_formula)"
   ]
  },
  {
   "cell_type": "code",
   "execution_count": 52,
   "metadata": {},
   "outputs": [
    {
     "ename": "ValueError",
     "evalue": "not enough values to unpack (expected 4, got 1)",
     "output_type": "error",
     "traceback": [
      "\u001b[0;31m-----------------------------------------------------------------------\u001b[0m",
      "\u001b[0;31mValueError\u001b[0m                            Traceback (most recent call last)",
      "\u001b[0;32m<ipython-input-52-90526e6df19b>\u001b[0m in \u001b[0;36m<module>\u001b[0;34m()\u001b[0m\n\u001b[0;32m----> 1\u001b[0;31m \u001b[0ma\u001b[0m\u001b[0;34m,\u001b[0m \u001b[0mb\u001b[0m\u001b[0;34m,\u001b[0m \u001b[0mc\u001b[0m\u001b[0;34m,\u001b[0m \u001b[0md\u001b[0m \u001b[0;34m=\u001b[0m \u001b[0manon_formula\u001b[0m\u001b[0;34m.\u001b[0m\u001b[0msplit\u001b[0m\u001b[0;34m(\u001b[0m\u001b[0;34m)\u001b[0m\u001b[0;34m\u001b[0m\u001b[0m\n\u001b[0m",
      "\u001b[0;31mValueError\u001b[0m: not enough values to unpack (expected 4, got 1)"
     ]
    }
   ],
   "source": [
    "a, b, c, d = anon_formula.split()"
   ]
  },
  {
   "cell_type": "code",
   "execution_count": 80,
   "metadata": {},
   "outputs": [
    {
     "name": "stdout",
     "output_type": "stream",
     "text": [
      "Fe2\n",
      "Fe\n",
      "2\n",
      "Fe2S2\n",
      "Fe2S2\n"
     ]
    }
   ],
   "source": [
    "\n",
    "import re\n",
    "\n",
    "# s = raw_input('a2b2')\n",
    "s = 'Fe2S2O3'\n",
    "m = re.match(r\"([a-zA-Z]+)([0-9]+)\",s)\n",
    "print(m.group(0))\n",
    "print(m.group(1))\n",
    "print(m.group(2))\n",
    "\n",
    "n = re.match(r\"([a-zA-Z]+)([0-9]+)([a-zA-Z]+)([0-9]+)\",s)\n",
    "\n",
    "print(n.group(0))\n",
    "print(n.group(0))"
   ]
  },
  {
   "cell_type": "code",
   "execution_count": 81,
   "metadata": {},
   "outputs": [
    {
     "data": {
      "text/plain": [
       "'F'"
      ]
     },
     "execution_count": 81,
     "metadata": {},
     "output_type": "execute_result"
    }
   ],
   "source": [
    "n.group(0)[0]"
   ]
  },
  {
   "cell_type": "code",
   "execution_count": 67,
   "metadata": {},
   "outputs": [
    {
     "name": "stdout",
     "output_type": "stream",
     "text": [
      "{'A': 2, 'B': 3}\n",
      "610\n"
     ]
    }
   ],
   "source": [
    "comp = mg.Composition(\"Fe2O3\")\n",
    "anon_formula = comp.anonymized_formula\n",
    "# We need to convert the formula to the dict form used in the database.\n",
    "anon_formula = {m.group(1): int(m.group(2)) \n",
    "                for m in re.finditer(r\"([a-zA-Z]+)([0-9]+)\", anon_formula)}\n",
    "print(anon_formula)\n",
    "data = rester.query({\"anonymous_formula\": anon_formula}, \n",
    "                 properties=[\"task_id\", \"pretty_formula\", \"structure\"])\n",
    "print(len(data))  #Should show ~600 data."
   ]
  },
  {
   "cell_type": "code",
   "execution_count": null,
   "metadata": {
    "collapsed": true
   },
   "outputs": [],
   "source": []
  },
  {
   "cell_type": "code",
   "execution_count": null,
   "metadata": {
    "collapsed": true
   },
   "outputs": [],
   "source": []
  },
  {
   "cell_type": "code",
   "execution_count": null,
   "metadata": {
    "collapsed": true
   },
   "outputs": [],
   "source": []
  },
  {
   "cell_type": "code",
   "execution_count": null,
   "metadata": {
    "collapsed": true
   },
   "outputs": [],
   "source": []
  },
  {
   "cell_type": "code",
   "execution_count": 90,
   "metadata": {},
   "outputs": [
    {
     "name": "stdout",
     "output_type": "stream",
     "text": [
      "{'icsd_ids': [], 'energy': -129.40518463, 'elasticity': None, 'unit_cell_formula': {'Fe': 8.0, 'O': 12.0}, 'oxide_type': 'oxide', 'hubbards': {'Fe': 5.3, 'O': 0.0}, 'task_ids': ['mvc-14118', 'mvc-12005'], 'band_gap': 0.6582000000000003, 'e_above_hull': 0.24658099549999424, 'nsites': 20, 'icsd_id': None, 'elements': ['Fe', 'O'], 'tags': None, 'pretty_formula': 'Fe2O3', 'volume': 238.12087379725398, 'total_magnetization': 40.0009106, 'is_hubbard': True, 'formation_energy_per_atom': -1.639104820250001, 'cif': \"# generated using pymatgen\\ndata_Fe2O3\\n_symmetry_space_group_name_H-M   'P 1'\\n_cell_length_a   3.01940776\\n_cell_length_b   5.17954936\\n_cell_length_c   15.91706509\\n_cell_angle_alpha   90.00000000\\n_cell_angle_beta   90.00000000\\n_cell_angle_gamma   106.94622182\\n_symmetry_Int_Tables_number   1\\n_chemical_formula_structural   Fe2O3\\n_chemical_formula_sum   'Fe8 O12'\\n_cell_volume   238.120873797\\n_cell_formula_units_Z   4\\nloop_\\n _symmetry_equiv_pos_site_id\\n _symmetry_equiv_pos_as_xyz\\n  1  'x, y, z'\\nloop_\\n _atom_site_type_symbol\\n _atom_site_label\\n _atom_site_symmetry_multiplicity\\n _atom_site_fract_x\\n _atom_site_fract_y\\n _atom_site_fract_z\\n _atom_site_occupancy\\n  Fe  Fe1  1  0.865300  0.730603  0.047394  1\\n  Fe  Fe2  1  0.134698  0.269396  0.952606  1\\n  Fe  Fe3  1  0.865300  0.730603  0.452606  1\\n  Fe  Fe4  1  0.134698  0.269396  0.547394  1\\n  Fe  Fe5  1  0.403793  0.807585  0.647299  1\\n  Fe  Fe6  1  0.596207  0.192415  0.352702  1\\n  Fe  Fe7  1  0.596207  0.192415  0.147298  1\\n  Fe  Fe8  1  0.403793  0.807585  0.852701  1\\n  O  O9  1  0.499999  0.000000  0.500000  1\\n  O  O10  1  0.499999  0.000000  0.000000  1\\n  O  O11  1  0.028705  0.057410  0.852519  1\\n  O  O12  1  0.971295  0.942590  0.147482  1\\n  O  O13  1  0.971295  0.942590  0.352518  1\\n  O  O14  1  0.028705  0.057410  0.647482  1\\n  O  O15  1  0.771885  0.543772  0.927494  1\\n  O  O16  1  0.228114  0.456229  0.072506  1\\n  O  O17  1  0.228114  0.456229  0.427494  1\\n  O  O18  1  0.771885  0.543772  0.572506  1\\n  O  O19  1  0.320556  0.641112  0.750000  1\\n  O  O20  1  0.679442  0.358887  0.250000  1\\n\", 'nelements': 2, 'density': 4.454350718538142, 'is_compatible': True, 'material_id': 'mvc-12005', 'energy_per_atom': -6.4702592315, 'spacegroup': {'symbol': 'Cmcm', 'number': 63, 'point_group': 'mmm', 'source': 'spglib', 'crystal_system': 'orthorhombic', 'hall': '-C 2c 2'}, 'full_formula': 'Fe8O12'}\n"
     ]
    }
   ],
   "source": [
    "import pymatgen as mg\n",
    "import os, re\n",
    "# rester = mg.MPRester(os.environ['PMG_MAPI_KEY'])\n",
    "\n",
    "with mg.MPRester(os.environ['PMG_MAPI_KEY']) as m:\n",
    "\n",
    "    #Structure for material id\n",
    "    structure = m.get_structure_by_material_id(\"mp-1234\")\n",
    "\n",
    "    #Dos for material id\n",
    "    dos = m.get_dos_by_material_id(\"mp-1234\")\n",
    "\n",
    "    #Bandstructure for material id\n",
    "    bandstructure = m.get_bandstructure_by_material_id(\"mp-1234\")\n",
    "    \n",
    "    #To get a list of data for all entries having formula Fe2O3\n",
    "    data = m.get_data(\"Fe2O3\")\n",
    "    print(data[0])\n",
    "    \n",
    "    #To get the energies of all entries having formula Fe2O3\n",
    "#     energies = m.get_data(\"Fe2O3\", \"energy\")\n",
    "    \n",
    "    \n"
   ]
  },
  {
   "cell_type": "code",
   "execution_count": null,
   "metadata": {
    "collapsed": true
   },
   "outputs": [],
   "source": []
  },
  {
   "cell_type": "code",
   "execution_count": null,
   "metadata": {
    "collapsed": true
   },
   "outputs": [],
   "source": []
  },
  {
   "cell_type": "code",
   "execution_count": 102,
   "metadata": {},
   "outputs": [
    {
     "name": "stdout",
     "output_type": "stream",
     "text": [
      "[{'energy': -12.49473715}, {'energy': -66.6138121}, {'energy': -132.81667588}, {'energy': -6.24620528}, {'energy': -33.26626098}, {'energy': -27.31995683}, {'energy': -66.61534328}, {'energy': -33.22108186}, {'energy': -14.58223165}]\n",
      "[ComputedEntry mp-135 - Li1\n",
      "Energy = -1.9089\n",
      "Correction = 0.0000\n",
      "Parameters:\n",
      "run_type = GGA\n",
      "is_hubbard = False\n",
      "pseudo_potential = {'labels': ['Li_sv'], 'pot_type': 'paw', 'functional': 'pbe'}\n",
      "hubbards = {}\n",
      "potcar_symbols = ['pbe Li_sv']\n",
      "oxide_type = None\n",
      "Data:\n",
      "oxide_type = None, ComputedEntry mp-10173 - Li2\n",
      "Energy = -3.8111\n",
      "Correction = 0.0000\n",
      "Parameters:\n",
      "run_type = GGA\n",
      "is_hubbard = False\n",
      "pseudo_potential = {'labels': ['Li_sv'], 'pot_type': 'paw', 'functional': 'pbe'}\n",
      "hubbards = {}\n",
      "potcar_symbols = ['pbe Li_sv']\n",
      "oxide_type = None\n",
      "Data:\n",
      "oxide_type = None, ComputedEntry mp-567337 - Li8\n",
      "Energy = -15.2464\n",
      "Correction = 0.0000\n",
      "Parameters:\n",
      "run_type = GGA\n",
      "is_hubbard = False\n",
      "pseudo_potential = {'labels': ['Li_sv'], 'pot_type': 'paw', 'functional': 'pbe'}\n",
      "hubbards = {}\n",
      "potcar_symbols = ['pbe Li_sv']\n",
      "oxide_type = None\n",
      "Data:\n",
      "oxide_type = None, ComputedEntry mp-51 - Li1\n",
      "Energy = -1.9055\n",
      "Correction = 0.0000\n",
      "Parameters:\n",
      "run_type = GGA\n",
      "is_hubbard = False\n",
      "pseudo_potential = {'labels': ['Li_sv'], 'pot_type': 'paw', 'functional': 'pbe'}\n",
      "hubbards = {}\n",
      "potcar_symbols = ['pbe Li_sv']\n",
      "oxide_type = None\n",
      "Data:\n",
      "oxide_type = None, ComputedEntry mp-976411 - Li4\n",
      "Energy = -7.6242\n",
      "Correction = 0.0000\n",
      "Parameters:\n",
      "run_type = GGA\n",
      "is_hubbard = False\n",
      "pseudo_potential = {'labels': ['Li_sv'], 'pot_type': 'paw', 'functional': 'pbe'}\n",
      "hubbards = {}\n",
      "potcar_symbols = ['pbe Li_sv']\n",
      "oxide_type = None\n",
      "Data:\n",
      "oxide_type = None, ComputedEntry mp-604313 - Li4\n",
      "Energy = -6.5086\n",
      "Correction = 0.0000\n",
      "Parameters:\n",
      "run_type = GGA\n",
      "is_hubbard = False\n",
      "pseudo_potential = {'labels': ['Li_sv'], 'pot_type': 'paw', 'functional': 'pbe'}\n",
      "hubbards = {}\n",
      "potcar_symbols = ['pbe Li_sv']\n",
      "oxide_type = None\n",
      "Data:\n",
      "oxide_type = None, ComputedEntry mp-1018134 - Li3\n",
      "Energy = -5.7216\n",
      "Correction = 0.0000\n",
      "Parameters:\n",
      "run_type = GGA\n",
      "is_hubbard = False\n",
      "pseudo_potential = {'labels': ['Li_sv'], 'pot_type': 'paw', 'functional': 'pbe'}\n",
      "hubbards = {}\n",
      "potcar_symbols = ['pbe Li_sv']\n",
      "oxide_type = None\n",
      "Data:\n",
      "oxide_type = None, ComputedEntry mp-672234 - N4\n",
      "Energy = -12.4947\n",
      "Correction = -19.3152\n",
      "Parameters:\n",
      "run_type = GGA\n",
      "is_hubbard = False\n",
      "pseudo_potential = {'labels': ['N'], 'pot_type': 'paw', 'functional': 'pbe'}\n",
      "hubbards = {}\n",
      "potcar_symbols = ['pbe N']\n",
      "oxide_type = None\n",
      "Data:\n",
      "oxide_type = None, ComputedEntry mp-25 - N8\n",
      "Energy = -66.6138\n",
      "Correction = 2.9940\n",
      "Parameters:\n",
      "run_type = GGA\n",
      "is_hubbard = False\n",
      "pseudo_potential = {'labels': ['N'], 'pot_type': 'paw', 'functional': 'pbe'}\n",
      "hubbards = {}\n",
      "potcar_symbols = ['pbe N']\n",
      "oxide_type = None\n",
      "Data:\n",
      "oxide_type = None, ComputedEntry mp-568584 - N16\n",
      "Energy = -132.8167\n",
      "Correction = 5.5771\n",
      "Parameters:\n",
      "run_type = GGA\n",
      "is_hubbard = False\n",
      "pseudo_potential = {'labels': ['N'], 'pot_type': 'paw', 'functional': 'pbe'}\n",
      "hubbards = {}\n",
      "potcar_symbols = ['pbe N']\n",
      "oxide_type = None\n",
      "Data:\n",
      "oxide_type = None, ComputedEntry mp-12103 - N2\n",
      "Energy = -6.2462\n",
      "Correction = -9.6587\n",
      "Parameters:\n",
      "run_type = GGA\n",
      "is_hubbard = False\n",
      "pseudo_potential = {'labels': ['N'], 'pot_type': 'paw', 'functional': 'pbe'}\n",
      "hubbards = {}\n",
      "potcar_symbols = ['pbe N']\n",
      "oxide_type = None\n",
      "Data:\n",
      "oxide_type = None, ComputedEntry mp-570747 - N4\n",
      "Energy = -33.2663\n",
      "Correction = 1.4564\n",
      "Parameters:\n",
      "run_type = GGA\n",
      "is_hubbard = False\n",
      "pseudo_potential = {'labels': ['N'], 'pot_type': 'paw', 'functional': 'pbe'}\n",
      "hubbards = {}\n",
      "potcar_symbols = ['pbe N']\n",
      "oxide_type = None\n",
      "Data:\n",
      "oxide_type = None, ComputedEntry mp-999498 - N4\n",
      "Energy = -27.3200\n",
      "Correction = -4.4899\n",
      "Parameters:\n",
      "run_type = GGA\n",
      "is_hubbard = False\n",
      "pseudo_potential = {'labels': ['N'], 'pot_type': 'paw', 'functional': 'pbe'}\n",
      "hubbards = {}\n",
      "potcar_symbols = ['pbe N']\n",
      "oxide_type = None\n",
      "Data:\n",
      "oxide_type = None, ComputedEntry mp-154 - N8\n",
      "Energy = -66.6153\n",
      "Correction = 2.9956\n",
      "Parameters:\n",
      "run_type = GGA\n",
      "is_hubbard = False\n",
      "pseudo_potential = {'labels': ['N'], 'pot_type': 'paw', 'functional': 'pbe'}\n",
      "hubbards = {}\n",
      "potcar_symbols = ['pbe N']\n",
      "oxide_type = None\n",
      "Data:\n",
      "oxide_type = None, ComputedEntry mp-672233 - N4\n",
      "Energy = -33.2211\n",
      "Correction = 1.4112\n",
      "Parameters:\n",
      "run_type = GGA\n",
      "is_hubbard = False\n",
      "pseudo_potential = {'labels': ['N'], 'pot_type': 'paw', 'functional': 'pbe'}\n",
      "hubbards = {}\n",
      "potcar_symbols = ['pbe N']\n",
      "oxide_type = None\n",
      "Data:\n",
      "oxide_type = None, ComputedEntry mp-754514 - N2\n",
      "Energy = -14.5822\n",
      "Correction = -1.3227\n",
      "Parameters:\n",
      "run_type = GGA\n",
      "is_hubbard = False\n",
      "pseudo_potential = {'labels': ['N'], 'pot_type': 'paw', 'functional': 'pbe'}\n",
      "hubbards = {}\n",
      "potcar_symbols = ['pbe N']\n",
      "oxide_type = None\n",
      "Data:\n",
      "oxide_type = None, ComputedEntry mp-2659 - Li1 N3\n",
      "Energy = -27.4343\n",
      "Correction = 0.0000\n",
      "Parameters:\n",
      "run_type = GGA\n",
      "is_hubbard = False\n",
      "pseudo_potential = {'labels': ['Li_sv', 'N'], 'pot_type': 'paw', 'functional': 'pbe'}\n",
      "hubbards = {}\n",
      "potcar_symbols = ['pbe Li_sv', 'pbe N']\n",
      "oxide_type = None\n",
      "Data:\n",
      "oxide_type = None, ComputedEntry mp-2341 - Li6 N2\n",
      "Energy = -30.9606\n",
      "Correction = 0.0000\n",
      "Parameters:\n",
      "run_type = GGA\n",
      "is_hubbard = False\n",
      "pseudo_potential = {'labels': ['Li_sv', 'N'], 'pot_type': 'paw', 'functional': 'pbe'}\n",
      "hubbards = {}\n",
      "potcar_symbols = ['pbe Li_sv', 'pbe N']\n",
      "oxide_type = None\n",
      "Data:\n",
      "oxide_type = None, ComputedEntry mp-2251 - Li3 N1\n",
      "Energy = -15.5190\n",
      "Correction = 0.0000\n",
      "Parameters:\n",
      "run_type = GGA\n",
      "is_hubbard = False\n",
      "pseudo_potential = {'labels': ['Li_sv', 'N'], 'pot_type': 'paw', 'functional': 'pbe'}\n",
      "hubbards = {}\n",
      "potcar_symbols = ['pbe Li_sv', 'pbe N']\n",
      "oxide_type = None\n",
      "Data:\n",
      "oxide_type = None]\n"
     ]
    }
   ],
   "source": [
    "import pymatgen as mg\n",
    "import os, re\n",
    "rester = mg.MPRester(os.environ['PMG_MAPI_KEY'])\n",
    "\n",
    "results = rester.query(\"N\", ['energy'])\n",
    "print(results)\n",
    "\n",
    "mp_entries = m.get_entries_in_chemsys([\"Li\", \"N\"])\n",
    "print(mp_entries.st)\n",
    "\n",
    "# with mg.MPRester(os.environ['PMG_MAPI_KEY']) as m:\n",
    "\n",
    "#     # Get all energies of materials with formula \"*2O\".\n",
    "#     results = m.query(\"*2O\", ['energy'])\n",
    "\n",
    "#     # Get the formulas and energies of materials with materials_id mp-1234\n",
    "#     # or with formula FeO.\n",
    "#     results = m.query(\"FeO mp-1234\", ['pretty_formula', 'energy'])\n",
    "\n",
    "# #     # Get all compounds of the form ABO3\n",
    "# #     results = m.query(\"**O3\", ['pretty_formula', 'energy'])\n"
   ]
  },
  {
   "cell_type": "code",
   "execution_count": 103,
   "metadata": {},
   "outputs": [
    {
     "data": {
      "text/plain": [
       "list"
      ]
     },
     "execution_count": 103,
     "metadata": {},
     "output_type": "execute_result"
    }
   ],
   "source": [
    "type(mp_entries)"
   ]
  },
  {
   "cell_type": "code",
   "execution_count": 114,
   "metadata": {},
   "outputs": [
    {
     "data": {
      "text/plain": [
       "ComputedEntry mp-135 - Li1\n",
       "Energy = -1.9089\n",
       "Correction = 0.0000\n",
       "Parameters:\n",
       "run_type = GGA\n",
       "is_hubbard = False\n",
       "pseudo_potential = {'labels': ['Li_sv'], 'pot_type': 'paw', 'functional': 'pbe'}\n",
       "hubbards = {}\n",
       "potcar_symbols = ['pbe Li_sv']\n",
       "oxide_type = None\n",
       "Data:\n",
       "oxide_type = None"
      ]
     },
     "execution_count": 114,
     "metadata": {},
     "output_type": "execute_result"
    }
   ],
   "source": [
    "mp_entries[0]"
   ]
  },
  {
   "cell_type": "code",
   "execution_count": null,
   "metadata": {
    "collapsed": true
   },
   "outputs": [],
   "source": []
  },
  {
   "cell_type": "code",
   "execution_count": null,
   "metadata": {
    "collapsed": true
   },
   "outputs": [],
   "source": []
  },
  {
   "cell_type": "code",
   "execution_count": null,
   "metadata": {
    "collapsed": true
   },
   "outputs": [],
   "source": []
  },
  {
   "cell_type": "markdown",
   "metadata": {},
   "source": [
    "# Query methods\n",
    "\n",
    "There are three kinds of queries:\n",
    "\n",
    "1. Formula, e.g., \"Fe2O3\", \"*TiO2“\n",
    "2. Chemical systems, e.g., \"Sr-Ti-O\", \"*-Fe-O\"\n",
    "3. Materials ID, e.g., \"mp-199\"\n",
    "\n",
    "The MPRester automatically detects what kind of query is being made. Also, for formulas and chemical systems, wildcards are supported with a \\*. That means *2O will yield a list of the following formula results:\n",
    "\n",
    "B2O, Xe2O, Li2O ...\n",
    "\n"
   ]
  },
  {
   "cell_type": "code",
   "execution_count": 123,
   "metadata": {},
   "outputs": [
    {
     "name": "stdout",
     "output_type": "stream",
     "text": [
      "[{'material_id': 'mp-22862',\n",
      "  'structure': Structure Summary\n",
      "Lattice\n",
      "    abc : 4.0246351157711695 4.0246351145167107 4.0246351200000001\n",
      " angles : 59.999999954931127 59.999999965241919 60.000000013971373\n",
      " volume : 46.096137758208265\n",
      "      A : 3.4854362499999998 0.0 2.0123175600000001\n",
      "      B : 1.16181208 3.2861008100000002 2.0123175600000001\n",
      "      C : 0.0 0.0 4.0246351200000001\n",
      "PeriodicSite: Na (0.0000, 0.0000, 0.0000) [0.0000, 0.0000, 0.0000]\n",
      "PeriodicSite: Cl (2.3236, 1.6431, 4.0246) [0.5000, 0.5000, 0.5000]},\n",
      " {'material_id': 'mp-22851',\n",
      "  'structure': Structure Summary\n",
      "Lattice\n",
      "    abc : 3.5044562500000001 3.5044562500000001 3.5044562500000001\n",
      " angles : 90.0 90.0 90.0\n",
      " volume : 43.038975786715604\n",
      "      A : 3.5044562500000001 0.0 0.0\n",
      "      B : 0.0 3.5044562500000001 0.0\n",
      "      C : 0.0 0.0 3.5044562500000001\n",
      "PeriodicSite: Na (0.0000, 0.0000, 0.0000) [0.0000, 0.0000, 0.0000]\n",
      "PeriodicSite: Cl (1.7522, 1.7522, 1.7522) [0.5000, 0.5000, 0.5000]}]\n"
     ]
    }
   ],
   "source": [
    "import pymatgen as mg\n",
    "import os, re\n",
    "from pprint import pprint\n",
    "rester = mg.MPRester(os.environ['PMG_MAPI_KEY'])\n",
    "# or we can just use\n",
    "# rester = mg.MPRester()\n",
    "\n",
    "\n",
    "# Initializing MPRester. Note that you can call MPRester. MPRester looks for the API key in two places: \n",
    "# - Supplying it directly as an __init__ arg.\n",
    "# - Setting the \"MAPI_KEY\" environment variable.\n",
    "# Please obtain your API key at https://www.materialsproject.org/dashboard\n",
    "\n",
    "#The following query returns all structures in the Materials Project with formula \"Fe2O3\"\n",
    "pprint(n.get_data(\"NaCl\", prop=\"structure\"))"
   ]
  },
  {
   "cell_type": "code",
   "execution_count": 2,
   "metadata": {},
   "outputs": [
    {
     "name": "stdout",
     "output_type": "stream",
     "text": [
      "[{'material_id': 'mp-1605', 'pretty_formula': 'Ag3O4'},\n",
      " {'material_id': 'mp-18748', 'pretty_formula': 'Co3O4'},\n",
      " {'material_id': 'mp-772696', 'pretty_formula': 'Cr3O4'},\n",
      " {'material_id': 'mp-650112', 'pretty_formula': 'Fe3O4'},\n",
      " {'material_id': 'mp-18731', 'pretty_formula': 'Fe3O4'},\n",
      " {'material_id': 'mp-705416', 'pretty_formula': 'Fe3O4'},\n",
      " {'material_id': 'mp-715811', 'pretty_formula': 'Fe3O4'},\n",
      " {'material_id': 'mp-715438', 'pretty_formula': 'Fe3O4'},\n",
      " {'material_id': 'mp-612405', 'pretty_formula': 'Fe3O4'},\n",
      " {'material_id': 'mp-715558', 'pretty_formula': 'Fe3O4'},\n",
      " {'material_id': 'mp-714989', 'pretty_formula': 'Fe3O4'},\n",
      " {'material_id': 'mp-716052', 'pretty_formula': 'Fe3O4'},\n",
      " {'material_id': 'mp-541907', 'pretty_formula': 'Fe3O4'},\n",
      " {'material_id': 'mp-31770', 'pretty_formula': 'Fe3O4'},\n",
      " {'material_id': 'mp-19306', 'pretty_formula': 'Fe3O4'},\n",
      " {'material_id': 'mp-542433', 'pretty_formula': 'Fe3O4'},\n",
      " {'material_id': 'mp-715275', 'pretty_formula': 'Fe3O4'},\n",
      " {'material_id': 'mp-715614', 'pretty_formula': 'Fe3O4'},\n",
      " {'material_id': 'mp-25696', 'pretty_formula': 'Mn3O4'},\n",
      " {'material_id': 'mp-638270', 'pretty_formula': 'Mn3O4'},\n",
      " {'material_id': 'mp-18759', 'pretty_formula': 'Mn3O4'},\n",
      " {'material_id': 'mp-656887', 'pretty_formula': 'Ni3O4'},\n",
      " {'material_id': 'mp-714961', 'pretty_formula': 'Ni3O4'},\n",
      " {'material_id': 'mp-849536', 'pretty_formula': 'Ni3O4'},\n",
      " {'material_id': 'mp-636813', 'pretty_formula': 'Pb3O4'},\n",
      " {'material_id': 'mp-21452', 'pretty_formula': 'Pb3O4'},\n",
      " {'material_id': 'mp-22633', 'pretty_formula': 'Pb3O4'},\n",
      " {'material_id': 'mp-1604', 'pretty_formula': 'Pt3O4'},\n",
      " {'material_id': 'mp-601193', 'pretty_formula': 'Pt3O4'},\n",
      " {'material_id': 'mp-755875', 'pretty_formula': 'Ti3O4'}]\n"
     ]
    }
   ],
   "source": [
    "import pymatgen as mg\n",
    "import os, re\n",
    "from pprint import pprint\n",
    "rester = mg.MPRester(os.environ['PMG_MAPI_KEY'])\n",
    "# or we can just use\n",
    "# rester = mg.MPRester()\n",
    "\n",
    "\n",
    "# Initializing MPRester. Note that you can call MPRester. MPRester looks for the API key in two places: \n",
    "# - Supplying it directly as an __init__ arg.\n",
    "# - Setting the \"MAPI_KEY\" environment variable.\n",
    "# Please obtain your API key at https://www.materialsproject.org/dashboard\n",
    "\n",
    "pprint(rester.get_data(\"*3O4\", prop=\"pretty_formula\"))"
   ]
  },
  {
   "cell_type": "code",
   "execution_count": null,
   "metadata": {
    "collapsed": true
   },
   "outputs": [],
   "source": []
  }
 ],
 "metadata": {
  "kernelspec": {
   "display_name": "Python 2",
   "language": "python",
   "name": "python2"
  },
  "language_info": {
   "codemirror_mode": {
    "name": "ipython",
    "version": 2
   },
   "file_extension": ".py",
   "mimetype": "text/x-python",
   "name": "python",
   "nbconvert_exporter": "python",
   "pygments_lexer": "ipython2",
   "version": "2.7.13"
  }
 },
 "nbformat": 4,
 "nbformat_minor": 2
}
