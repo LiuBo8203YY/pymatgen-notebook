{
 "cells": [
  {
   "cell_type": "markdown",
   "metadata": {},
   "source": [
    "## Introduction\n",
    "\n",
    "Basic functionality of pymatgen is introduced.\n",
    "\n",
    "Written using:\n",
    "- pymatgen==2018.4.20\n",
    "- python==3.6.3\n",
    "\n",
    "Note that a API key of materials project may be required."
   ]
  },
  {
   "cell_type": "code",
   "execution_count": 6,
   "metadata": {},
   "outputs": [],
   "source": [
    "import pymatgen as mg"
   ]
  },
  {
   "cell_type": "markdown",
   "metadata": {},
   "source": [
    "## 1. Basic Element, Specie and Composition objects\n",
    "\n",
    "Pymatgen contains a set of core classes to represent an Element, Specie and Composition. These objects contains useful properties such as atomic mass, ionic radii, etc. These core classes are loaded by default with pymatgen. An Element can be created as follows:"
   ]
  },
  {
   "cell_type": "markdown",
   "metadata": {},
   "source": [
    "### Element"
   ]
  },
  {
   "cell_type": "code",
   "execution_count": 19,
   "metadata": {},
   "outputs": [
    {
     "name": "stdout",
     "output_type": "stream",
     "text": [
      "Atomic mass of Carbon is 12.0107 amu\n",
      "Its oxidation states are (-4, -3, -2, -1, 1, 2, 3, 4)\n",
      "Its ionic radii is {4: 0.3}\n",
      "Its thermal conductivity is 140.0 W K^-1 m^-1\n"
     ]
    }
   ],
   "source": [
    "c = mg.Element('C')\n",
    "print('Atomic mass of Carbon is {}'.format(c.atomic_mass))  #by default the unit is atomic mass unit, amu\n",
    "print('Its oxidation states are {}'.format(c.oxidation_states))\n",
    "print('Its ionic radii is {}'.format(c.ionic_radii))\n",
    "print('Its thermal conductivity is {}'.format(c.thermal_conductivity))"
   ]
  },
  {
   "cell_type": "markdown",
   "metadata": {},
   "source": [
    "By examing the source code for pymatgen.core.periodic_table, we can find many other properties we can inquiry from the database."
   ]
  },
  {
   "cell_type": "raw",
   "metadata": {},
   "source": [
    "#code segments of pymatgen.core.periodic_table\n",
    "if item in [\"mendeleev_no\", \"electrical_resistivity\",\n",
    "                    \"velocity_of_sound\", \"reflectivity\",\n",
    "                    \"refractive_index\", \"poissons_ratio\", \"molar_volume\",\n",
    "                    \"electronic_structure\", \"thermal_conductivity\",\n",
    "                    \"boiling_point\", \"melting_point\",\n",
    "                    \"critical_temperature\", \"superconduction_temperature\",\n",
    "                    \"liquid_range\", \"bulk_modulus\", \"youngs_modulus\",\n",
    "                    \"brinell_hardness\", \"rigidity_modulus\",\n",
    "                    \"mineral_hardness\", \"vickers_hardness\",\n",
    "                    \"density_of_solid\", \"atomic_radius_calculated\",\n",
    "                    \"van_der_waals_radius\", \"atomic_orbitals\",\n",
    "                    \"coefficient_of_linear_thermal_expansion\",\n",
    "                    \"ground_state_term_symbol\", \"valence\"]:"
   ]
  },
  {
   "cell_type": "markdown",
   "metadata": {},
   "source": [
    "Pymatgen comes with a complete system of managing units in pymatgen.core.unit. A Unit is a subclass of float that attaches units and handles conversions. For example,"
   ]
  },
  {
   "cell_type": "code",
   "execution_count": 18,
   "metadata": {},
   "outputs": [
    {
     "name": "stdout",
     "output_type": "stream",
     "text": [
      "Atomic mass of Carbon in kg is 1.9944236247728e-26 kg\n"
     ]
    }
   ],
   "source": [
    "print('Atomic mass of Carbon in kg is {}'.format(c.atomic_mass.to('kg')))"
   ]
  },
  {
   "cell_type": "markdown",
   "metadata": {},
   "source": [
    "### Species"
   ]
  },
  {
   "cell_type": "markdown",
   "metadata": {},
   "source": [
    "Species are like Elements, except they have an explicit oxidation state. They can be used wherever Element is used for the most part."
   ]
  },
  {
   "cell_type": "code",
   "execution_count": 2,
   "metadata": {},
   "outputs": [
    {
     "name": "stdout",
     "output_type": "stream",
     "text": [
      "54.938045 amu\n",
      "0.97 ang\n",
      "1.8330343416940933 bohr\n"
     ]
    }
   ],
   "source": [
    "import pymatgen as mg\n",
    "mn2 = mg.Specie(\"Mn\", 2)\n",
    "print(mn2.atomic_mass)\n",
    "print(mn2.ionic_radius) # by default, the unit is angstrom\n",
    "print(mn2.ionic_radius.to('bohr')) # convert ang to bohr"
   ]
  },
  {
   "cell_type": "markdown",
   "metadata": {},
   "source": [
    "### Composition"
   ]
  },
  {
   "cell_type": "markdown",
   "metadata": {},
   "source": [
    "A **Composition** is essentially an **immutable** mapping of Elements/Species with amounts, and useful properties like molecular weight, get_atomic_fraction, etc. Note that we can conveniently either use an Element/Specie object or a string as keys (this is a feature)."
   ]
  },
  {
   "cell_type": "code",
   "execution_count": 28,
   "metadata": {},
   "outputs": [
    {
     "name": "stdout",
     "output_type": "stream",
     "text": [
      "Weight of LaWN3 is 364.76557 amu\n",
      "Amount of W in LaWN3 is 1.0 and N is 3.0\n",
      "Weight fraction of La is 0.38080751426183124 \n"
     ]
    }
   ],
   "source": [
    "import pymatgen as mg\n",
    "comp = mg.Composition(\"LaWN3\")\n",
    "# LaWN3 is identified as a good candidate of ferroelectric material, see Phys. Rev. B 95, 014111, 2017\n",
    "print(\"Weight of LaWN3 is {}\".format(comp.weight))\n",
    "print(\"Amount of W in LaWN3 is {}\".format(comp[\"W\"]), \"and N is {}\".format(comp[\"N\"]))\n",
    "print(\"Weight fraction of La is {}\".format(comp.get_wt_fraction('La')))"
   ]
  },
  {
   "cell_type": "markdown",
   "metadata": {},
   "source": [
    "## 2. Lattice & Structure objects"
   ]
  },
  {
   "cell_type": "markdown",
   "metadata": {},
   "source": [
    "### Lattice "
   ]
  },
  {
   "cell_type": "markdown",
   "metadata": {},
   "source": [
    "A Lattice represents a Bravais lattice. Convenience static functions are provided for the creation of common lattice types from a minimum number of arguments. "
   ]
  },
  {
   "cell_type": "code",
   "execution_count": 16,
   "metadata": {
    "scrolled": true
   },
   "outputs": [
    {
     "name": "stdout",
     "output_type": "stream",
     "text": [
      "<class 'pymatgen.core.lattice.Lattice'>\n",
      "((3.9049999999999998, 3.9049999999999998, 3.9049999999999998), (90.0, 90.0, 90.0))\n",
      "(3.9049999999999998, 3.9049999999999998, 3.9049999999999998)\n"
     ]
    }
   ],
   "source": [
    "import pymatgen as mg\n",
    "# Creates cubic Lattice with lattice parameter 3.905\n",
    "lattice = mg.Lattice.cubic(3.905)\n",
    "print(type(lattice))\n",
    "print(lattice.lengths_and_angles)\n",
    "print(lattice.abc)"
   ]
  },
  {
   "cell_type": "markdown",
   "metadata": {},
   "source": [
    "### Structure = (Lattice + Basis)"
   ]
  },
  {
   "cell_type": "markdown",
   "metadata": {},
   "source": [
    "A Structure object represents a crystal structure (lattice + basis). A Structure is essentially a list of PeriodicSites with the same Lattice. Let us now create a CsCl structure."
   ]
  },
  {
   "cell_type": "markdown",
   "metadata": {},
   "source": [
    "#### A simple example of cubic CsCl structure"
   ]
  },
  {
   "cell_type": "code",
   "execution_count": 83,
   "metadata": {},
   "outputs": [
    {
     "name": "stdout",
     "output_type": "stream",
     "text": [
      "Unit cell volume = 59.54744262499999\n"
     ]
    }
   ],
   "source": [
    "import pymatgen as mg\n",
    "lattice = mg.Lattice.cubic(3.905)\n",
    "structure = mg.Structure(lattice, [\"Cs\",\"Cl\"], [[0,0,0],[0.5,0.5,0.5]])\n",
    "print(\"Unit cell volume = {}\".format(structure.volume)) # the default volume unit in pymatgen is ang^3"
   ]
  },
  {
   "cell_type": "code",
   "execution_count": 85,
   "metadata": {},
   "outputs": [
    {
     "name": "stdout",
     "output_type": "stream",
     "text": [
      "Cs1 Cl1\r\n",
      "1.0\r\n",
      "3.905000 0.000000 0.000000\r\n",
      "0.000000 3.905000 0.000000\r\n",
      "0.000000 0.000000 3.905000\r\n",
      "Cs Cl\r\n",
      "1 1\r\n",
      "direct\r\n",
      "0.000000 0.000000 0.000000 Cs\r\n",
      "0.500000 0.500000 0.500000 Cl\r\n"
     ]
    }
   ],
   "source": [
    "# pymatgen provides us kinds of structure formats\n",
    "# here, I export the file into POSCAR format that can be used by VASP.\n",
    "structure.to(filename='IO-data/POSCAR-CsCl.vasp')\n",
    "%cat IO-data/POSCAR-CsCl.vasp"
   ]
  },
  {
   "cell_type": "code",
   "execution_count": 86,
   "metadata": {},
   "outputs": [
    {
     "name": "stdout",
     "output_type": "stream",
     "text": [
      "# generated using pymatgen\r\n",
      "data_CsCl\r\n",
      "_symmetry_space_group_name_H-M   'P 1'\r\n",
      "_cell_length_a   3.90500000\r\n",
      "_cell_length_b   3.90500000\r\n",
      "_cell_length_c   3.90500000\r\n",
      "_cell_angle_alpha   90.00000000\r\n",
      "_cell_angle_beta   90.00000000\r\n",
      "_cell_angle_gamma   90.00000000\r\n",
      "_symmetry_Int_Tables_number   1\r\n",
      "_chemical_formula_structural   CsCl\r\n",
      "_chemical_formula_sum   'Cs1 Cl1'\r\n",
      "_cell_volume   59.54744262\r\n",
      "_cell_formula_units_Z   1\r\n",
      "loop_\r\n",
      " _symmetry_equiv_pos_site_id\r\n",
      " _symmetry_equiv_pos_as_xyz\r\n",
      "  1  'x, y, z'\r\n",
      "loop_\r\n",
      " _atom_site_type_symbol\r\n",
      " _atom_site_label\r\n",
      " _atom_site_symmetry_multiplicity\r\n",
      " _atom_site_fract_x\r\n",
      " _atom_site_fract_y\r\n",
      " _atom_site_fract_z\r\n",
      " _atom_site_occupancy\r\n",
      "  Cs  Cs1  1  0.000000  0.000000  0.000000  1\r\n",
      "  Cl  Cl2  1  0.500000  0.500000  0.500000  1\r\n"
     ]
    }
   ],
   "source": [
    "# CIF format and xyz format are also supported\n",
    "# for example:\n",
    "structure.to(filename='IO-data/CsCl.cif')\n",
    "%cat IO-data/CsCl.cif"
   ]
  },
  {
   "cell_type": "markdown",
   "metadata": {},
   "source": [
    "#### A simple example of cubic BaTiO3 structure "
   ]
  },
  {
   "cell_type": "markdown",
   "metadata": {},
   "source": [
    "an ideal cubic BaTiO3 and its 2 * 2 * 2 superlattice"
   ]
  },
  {
   "cell_type": "code",
   "execution_count": 77,
   "metadata": {
    "scrolled": false
   },
   "outputs": [
    {
     "name": "stdout",
     "output_type": "stream",
     "text": [
      "Ba1 Ti1 O3\n",
      "1.0\n",
      "3.905000 0.000000 0.000000\n",
      "0.000000 3.905000 0.000000\n",
      "0.000000 0.000000 3.905000\n",
      "Ba Ti O\n",
      "1 1 3\n",
      "direct\n",
      "0.000000 0.000000 0.000000 Ba\n",
      "0.500000 0.500000 0.500000 Ti\n",
      "0.500000 0.500000 0.000000 O\n",
      "0.500000 0.000000 0.500000 O\n",
      "0.000000 0.500000 0.500000 O\n",
      "\n",
      "\n",
      "Ba4 Ti4 O12\n",
      "1.0\n",
      "7.810000 0.000000 0.000000\n",
      "0.000000 7.810000 0.000000\n",
      "0.000000 0.000000 3.905000\n",
      "Ba Ti O\n",
      "4 4 12\n",
      "direct\n",
      "0.000000 0.000000 0.000000 Ba\n",
      "0.000000 0.500000 0.000000 Ba\n",
      "0.500000 0.000000 0.000000 Ba\n",
      "0.500000 0.500000 0.000000 Ba\n",
      "0.250000 0.250000 0.500000 Ti\n",
      "0.250000 0.750000 0.500000 Ti\n",
      "0.750000 0.250000 0.500000 Ti\n",
      "0.750000 0.750000 0.500000 Ti\n",
      "0.250000 0.250000 0.000000 O\n",
      "0.250000 0.750000 0.000000 O\n",
      "0.750000 0.250000 0.000000 O\n",
      "0.750000 0.750000 0.000000 O\n",
      "0.250000 0.000000 0.500000 O\n",
      "0.250000 0.500000 0.500000 O\n",
      "0.750000 0.000000 0.500000 O\n",
      "0.750000 0.500000 0.500000 O\n",
      "0.000000 0.250000 0.500000 O\n",
      "0.000000 0.750000 0.500000 O\n",
      "0.500000 0.250000 0.500000 O\n",
      "0.500000 0.750000 0.500000 O\n"
     ]
    }
   ],
   "source": [
    "import pymatgen as mg\n",
    "bto_lattice = mg.Lattice.cubic(3.905)\n",
    "bto_structure = mg.Structure(bto_lattice,\n",
    "                            ['Ba', 'Ti']+['O']*3,\n",
    "                            [[0,0,0], [0.5,0.5,0.5], [0.5,0.5,0],[0.5,0,0.5],[0,0.5,0.5]])\n",
    "# note that all modifications will be changed in palce.\n",
    "bto_structure.to(filename='IO-data/POSCAR-cubic-BTO.vasp')\n",
    "%cat IO-data/POSCAR-cubic-BTO.vasp\n",
    "print('\\n')\n",
    "bto_structure.make_supercell([2, 2, 1])\n",
    "bto_structure.to(filename='IO-data/POSCAR-cubic-BTO-40atom.vasp')\n",
    "%cat IO-data/POSCAR-cubic-BTO-40atom.vasp"
   ]
  },
  {
   "cell_type": "markdown",
   "metadata": {},
   "source": [
    "dop a calcium ion into BaTiO3 superlattice and displace the titanum ions"
   ]
  },
  {
   "cell_type": "markdown",
   "metadata": {},
   "source": [
    "**method-1**: delete the Ba ion first, and then add a new Ca ion to structure"
   ]
  },
  {
   "cell_type": "code",
   "execution_count": 80,
   "metadata": {},
   "outputs": [
    {
     "data": {
      "text/plain": [
       "Structure Summary\n",
       "Lattice\n",
       "    abc : 7.8099999999999996 7.8099999999999996 3.9049999999999998\n",
       " angles : 90.0 90.0 90.0\n",
       " volume : 238.18977049999995\n",
       "      A : 7.8099999999999996 0.0 0.0\n",
       "      B : 0.0 7.8099999999999996 0.0\n",
       "      C : 0.0 0.0 3.9049999999999998\n",
       "PeriodicSite: Ba (0.0000, 3.9050, 0.0000) [0.0000, 0.5000, 0.0000]\n",
       "PeriodicSite: Ba (3.9050, 0.0000, 0.0000) [0.5000, 0.0000, 0.0000]\n",
       "PeriodicSite: Ba (3.9050, 3.9050, 0.0000) [0.5000, 0.5000, 0.0000]\n",
       "PeriodicSite: Ti (1.9525, 1.9525, 1.9525) [0.2500, 0.2500, 0.5000]\n",
       "PeriodicSite: Ti (1.9525, 5.8575, 1.9525) [0.2500, 0.7500, 0.5000]\n",
       "PeriodicSite: Ti (5.8575, 1.9525, 1.9525) [0.7500, 0.2500, 0.5000]\n",
       "PeriodicSite: Ti (5.8575, 5.8575, 1.9525) [0.7500, 0.7500, 0.5000]\n",
       "PeriodicSite: O (1.9525, 1.9525, 0.0000) [0.2500, 0.2500, 0.0000]\n",
       "PeriodicSite: O (1.9525, 5.8575, 0.0000) [0.2500, 0.7500, 0.0000]\n",
       "PeriodicSite: O (5.8575, 1.9525, 0.0000) [0.7500, 0.2500, 0.0000]\n",
       "PeriodicSite: O (5.8575, 5.8575, 0.0000) [0.7500, 0.7500, 0.0000]\n",
       "PeriodicSite: O (1.9525, 0.0000, 1.9525) [0.2500, 0.0000, 0.5000]\n",
       "PeriodicSite: O (1.9525, 3.9050, 1.9525) [0.2500, 0.5000, 0.5000]\n",
       "PeriodicSite: O (5.8575, 0.0000, 1.9525) [0.7500, 0.0000, 0.5000]\n",
       "PeriodicSite: O (5.8575, 3.9050, 1.9525) [0.7500, 0.5000, 0.5000]\n",
       "PeriodicSite: O (0.0000, 1.9525, 1.9525) [0.0000, 0.2500, 0.5000]\n",
       "PeriodicSite: O (0.0000, 5.8575, 1.9525) [0.0000, 0.7500, 0.5000]\n",
       "PeriodicSite: O (3.9050, 1.9525, 1.9525) [0.5000, 0.2500, 0.5000]\n",
       "PeriodicSite: Ca (0.0000, 0.0000, 0.0000) [0.0000, 0.0000, 0.0000]"
      ]
     },
     "execution_count": 80,
     "metadata": {},
     "output_type": "execute_result"
    }
   ],
   "source": [
    "copy_1 = bto_structure.copy()\n",
    "del copy_1[0]\n",
    "copy_1[-1]=(\"Ca\",\n",
    "       [0,0,0])\n",
    "copy_1"
   ]
  },
  {
   "cell_type": "markdown",
   "metadata": {},
   "source": [
    "**method-2**\n",
    "\n",
    "Replace the Ba ion with Ca ion directly at the specified site"
   ]
  },
  {
   "cell_type": "code",
   "execution_count": 82,
   "metadata": {},
   "outputs": [
    {
     "data": {
      "text/plain": [
       "Structure Summary\n",
       "Lattice\n",
       "    abc : 7.8099999999999996 7.8099999999999996 3.9049999999999998\n",
       " angles : 90.0 90.0 90.0\n",
       " volume : 238.18977049999995\n",
       "      A : 7.8099999999999996 0.0 0.0\n",
       "      B : 0.0 7.8099999999999996 0.0\n",
       "      C : 0.0 0.0 3.9049999999999998\n",
       "PeriodicSite: Ca (0.0000, 0.0000, 0.0000) [0.0000, 0.0000, 0.0000]\n",
       "PeriodicSite: Ba (0.0000, 3.9050, 0.0000) [0.0000, 0.5000, 0.0000]\n",
       "PeriodicSite: Ba (3.9050, 0.0000, 0.0000) [0.5000, 0.0000, 0.0000]\n",
       "PeriodicSite: Ba (3.9050, 3.9050, 0.0000) [0.5000, 0.5000, 0.0000]\n",
       "PeriodicSite: Ti (1.9525, 1.9525, 1.9525) [0.2500, 0.2500, 0.5000]\n",
       "PeriodicSite: Ti (1.9525, 5.8575, 1.9525) [0.2500, 0.7500, 0.5000]\n",
       "PeriodicSite: Ti (5.8575, 1.9525, 1.9525) [0.7500, 0.2500, 0.5000]\n",
       "PeriodicSite: Ti (5.8575, 5.8575, 1.9525) [0.7500, 0.7500, 0.5000]\n",
       "PeriodicSite: O (1.9525, 1.9525, 0.0000) [0.2500, 0.2500, 0.0000]\n",
       "PeriodicSite: O (1.9525, 5.8575, 0.0000) [0.2500, 0.7500, 0.0000]\n",
       "PeriodicSite: O (5.8575, 1.9525, 0.0000) [0.7500, 0.2500, 0.0000]\n",
       "PeriodicSite: O (5.8575, 5.8575, 0.0000) [0.7500, 0.7500, 0.0000]\n",
       "PeriodicSite: O (1.9525, 0.0000, 1.9525) [0.2500, 0.0000, 0.5000]\n",
       "PeriodicSite: O (1.9525, 3.9050, 1.9525) [0.2500, 0.5000, 0.5000]\n",
       "PeriodicSite: O (5.8575, 0.0000, 1.9525) [0.7500, 0.0000, 0.5000]\n",
       "PeriodicSite: O (5.8575, 3.9050, 1.9525) [0.7500, 0.5000, 0.5000]\n",
       "PeriodicSite: O (0.0000, 1.9525, 1.9525) [0.0000, 0.2500, 0.5000]\n",
       "PeriodicSite: O (0.0000, 5.8575, 1.9525) [0.0000, 0.7500, 0.5000]\n",
       "PeriodicSite: O (3.9050, 1.9525, 1.9525) [0.5000, 0.2500, 0.5000]\n",
       "PeriodicSite: O (3.9050, 5.8575, 1.9525) [0.5000, 0.7500, 0.5000]"
      ]
     },
     "execution_count": 82,
     "metadata": {},
     "output_type": "execute_result"
    }
   ],
   "source": [
    "copy_2 = bto_structure.copy()\n",
    "copy_2[0] = 'Ca'\n",
    "copy_2"
   ]
  },
  {
   "cell_type": "markdown",
   "metadata": {},
   "source": [
    "### Other basic analyses for structure objects\n",
    "\n",
    "Many propertie of structure object can be displayed, manipulated or revised by pymatgen.\n",
    "For example, find the symmetry of structure, perform the fitting of structures.\n",
    "\n",
    "#### symmetry of structure\n",
    "\n",
    "Here, let's use cubic BaTiO3 as a simple example"
   ]
  },
  {
   "cell_type": "code",
   "execution_count": 105,
   "metadata": {},
   "outputs": [
    {
     "name": "stdout",
     "output_type": "stream",
     "text": [
      "The spacegroup of BaTiO3 is Pmm2\n"
     ]
    }
   ],
   "source": [
    "import pymatgen as mg\n",
    "bto_lattice = mg.Lattice.cubic(3.905)\n",
    "bto_structure = mg.Structure(bto_lattice,\n",
    "                            ['Ba', 'Ti']+['O']*3,\n",
    "                            [[0,0,0], [0.5,0.5,0.5], [0.5,0.5005,0],[0.5,0,0.5],[0,0.5,0.5]])\n",
    "#note that I shifted one of the O ion a little bit.\n",
    "\n",
    "from pymatgen.symmetry.analyzer import SpacegroupAnalyzer\n",
    "# pymatgen.symmetry.analyzer acts as an interface of 'spglib' for pymatgen\n",
    "bto_symmetry = SpacegroupAnalyzer(bto_structure,0.001) #if 0.1, symmetry will be Pm-3m\n",
    "# Tolerance for symmetry finding. Defaults to 1e-3,\n",
    "#             which is fairly strict and works well for properly refined\n",
    "#             structures with atoms in the proper symmetry coordinates. For\n",
    "#             structures with slight deviations from their proper atomic\n",
    "#             positions (e.g., structures relaxed with electronic structure\n",
    "#             codes), a looser tolerance of 0.1 (the value used in Materials\n",
    "#             Project) is often needed.\n",
    "print('The spacegroup of BaTiO3 is {}'.format(bto_symmetry.get_space_group_symbol()))"
   ]
  },
  {
   "cell_type": "markdown",
   "metadata": {},
   "source": [
    "#### fitting of structures"
   ]
  },
  {
   "cell_type": "code",
   "execution_count": 134,
   "metadata": {},
   "outputs": [
    {
     "name": "stdout",
     "output_type": "stream",
     "text": [
      "True\n"
     ]
    }
   ],
   "source": [
    "import pymatgen as mg\n",
    "from pymatgen.analysis.structure_matcher import StructureMatcher\n",
    "#Let's create two structures which are the same topologically, but with different elements, and one lattice is larger.\n",
    "lattice = mg.Lattice.cubic(4.1)\n",
    "s1 = mg.Structure(lattice, [\"Cs\", 'Cl'], [[0, 0, 0], [0.5, 0.5, 0.5]])\n",
    "s2 = mg.Structure(mg.Lattice.cubic(4.02), [\"Rb\", \"F\"], [[0, 0, 0], [0.5, 0.5, 0.5]])\n",
    "\n",
    "m = StructureMatcher()\n",
    "print(m.fit_anonymous(s1, s2))\n",
    "\n",
    "# def fit_anonymous(self, struct1, struct2, niggli=True):\n",
    "#         \"\"\"\n",
    "#         Performs an anonymous fitting, which allows distinct species in one\n",
    "#         structure to map to another. E.g., to compare if the Li2O and Na2O\n",
    "#         structures are similar.\n",
    "\n",
    "#         Args:\n",
    "#             struct1 (Structure): 1st structure\n",
    "#             struct2 (Structure): 2nd structure\n",
    "\n",
    "#         Returns:\n",
    "#             True/False: Whether a species mapping can map struct1 to stuct2\n",
    "#         \"\"\"\n"
   ]
  },
  {
   "cell_type": "code",
   "execution_count": null,
   "metadata": {},
   "outputs": [],
   "source": []
  },
  {
   "cell_type": "code",
   "execution_count": null,
   "metadata": {},
   "outputs": [],
   "source": []
  },
  {
   "cell_type": "code",
   "execution_count": null,
   "metadata": {},
   "outputs": [],
   "source": []
  }
 ],
 "metadata": {
  "kernelspec": {
   "display_name": "Python 3",
   "language": "python",
   "name": "python3"
  },
  "language_info": {
   "codemirror_mode": {
    "name": "ipython",
    "version": 3
   },
   "file_extension": ".py",
   "mimetype": "text/x-python",
   "name": "python",
   "nbconvert_exporter": "python",
   "pygments_lexer": "ipython3",
   "version": "3.6.3"
  }
 },
 "nbformat": 4,
 "nbformat_minor": 2
}
